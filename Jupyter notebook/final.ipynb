{
 "cells": [
  {
   "cell_type": "code",
   "execution_count": 1,
   "metadata": {},
   "outputs": [],
   "source": [
    "import os \n",
    "import pandas as pd \n",
    "import itertools\n",
    "import re\n",
    "import numpy as np"
   ]
  },
  {
   "cell_type": "code",
   "execution_count": null,
   "metadata": {},
   "outputs": [],
   "source": [
    "\n"
   ]
  },
  {
   "cell_type": "code",
   "execution_count": 2,
   "metadata": {},
   "outputs": [],
   "source": [
    "def preprocess(data, info):\n",
    "    a = data.copy()\n",
    "    info = re.findall(r\".*(?=.csv)\",info)[0]\n",
    "    a = a.rename(columns={\"First Tooltip\": info})\n",
    "\n",
    "    \"\"\"    \n",
    "    if (\"Dim1\" in a.columns.values):\n",
    "        a['Both sexes'] = (a['Dim1'] == \"Both sexes\").replace({False:0, True:1})\n",
    "        a['Male'] = (a['Dim1'] == \"Male\").replace({False:0, True:1})\n",
    "        a['Female'] = (a['Dim1'] == \"Female\").replace({False:0, True:1})\n",
    "    else:\n",
    "        a['Both sexes'] = (a['Location'] != \"Both sexes\").replace({False:0, True:1})\n",
    "        a['Male'] = (a['Location'] != \"Male\").replace({False:0, True:1})\n",
    "        a['Female'] = (a['Location'] != \"Female\").replace({False:0, True:1})\n",
    "    \"\"\"\n",
    "\n",
    "     \n",
    "    data_2015 = a[a[\"Period\"] == 2015]\n",
    "    \n",
    "    data_2016 = a[a[\"Period\"] == 2016]\n",
    "    \n",
    "    data_2017 = a[a[\"Period\"] == 2017]\n",
    "    \n",
    "    data_2018 = a[a[\"Period\"] == 2018]\n",
    "    \n",
    "    data_2019 = a[a[\"Period\"] == 2019]\n",
    "    \n",
    "    data_2020 = a[a[\"Period\"] == 2020]\n",
    "    \n",
    "    data_2021 = a[a[\"Period\"] == 2021]\n",
    "\n",
    "    year_dic = {'2015':data_2015,'2016':data_2016,'2017':data_2017,'2018':data_2018,\n",
    "                '2019':data_2019,'2020':data_2020,'2021':data_2021}\n",
    "    \n",
    "    if(\"Dim1\" in a.columns.values):\n",
    "        for key,df in year_dic.items():\n",
    "            temp = df.groupby(\"Location\").mean()\n",
    "            temp.reset_index(inplace=True)\n",
    "            temp = temp.loc[:, ['Location', info]]\n",
    "            year_dic[key] = temp\n",
    "    \n",
    "    else:\n",
    "        for key,df in year_dic.items():\n",
    "            temp = df.loc[:, ['Location', info]]\n",
    "            year_dic[key] = temp\n",
    "    return year_dic\n"
   ]
  },
  {
   "cell_type": "code",
   "execution_count": 3,
   "metadata": {},
   "outputs": [],
   "source": [
    "def merge_dic(data_lst):\n",
    "    year_lst = [str(i) for i in range(2015,2022)]\n",
    "    result = []\n",
    "    for year in year_lst:\n",
    "        temp = None\n",
    "        indicator = False\n",
    "        for variable_dict in data_lst: \n",
    "            if indicator == False:\n",
    "                temp = variable_dict[year]\n",
    "                indicator = True\n",
    "            else:          \n",
    "                temp = pd.merge(temp, variable_dict[year], on = [\"Location\"])\n",
    "        temp['Period'] = np.array([year]*temp.shape[0])\n",
    "        result.append(temp)\n",
    "    return result"
   ]
  },
  {
   "cell_type": "code",
   "execution_count": 4,
   "metadata": {},
   "outputs": [],
   "source": [
    "def read_data():\n",
    "    data_lst = []\n",
    "\n",
    "    for info in os.listdir(\"train_data\"): \n",
    "\n",
    "        if info == \".DS_Store\":\n",
    "            continue\n",
    "        domain = os.path.abspath(r\"train_data\")\n",
    "        dirc = os.path.join(domain,info)\n",
    "        data = pd.read_csv(dirc)\n",
    "        \n",
    "        data_lst.append([data, info])\n",
    "    return data_lst\n"
   ]
  },
  {
   "cell_type": "code",
   "execution_count": 5,
   "metadata": {},
   "outputs": [],
   "source": [
    "def run_proprocess(data_lst):\n",
    "    result = []\n",
    "    for [data, info] in data_lst:\n",
    "        temp = preprocess(data, info)\n",
    "        result.append(temp)\n",
    "    return result"
   ]
  },
  {
   "cell_type": "code",
   "execution_count": 6,
   "metadata": {},
   "outputs": [],
   "source": [
    "def main():\n",
    "    raw_data = read_data()\n",
    "    #[how many dataset uses, how many useful data]\n",
    "    test = []\n",
    "    \n",
    "    #dataset (doesn't merge)\n",
    "    comb = []\n",
    "    \n",
    "    #dataset merge\n",
    "    result_lst = []\n",
    "    for L in range(0, len(raw_data)+1):\n",
    "        for subset in itertools.combinations(raw_data, L):\n",
    "            if(len(subset) != 0):\n",
    "                data_lst = subset\n",
    "                data_lst = run_proprocess(data_lst)\n",
    "                result = merge_dic(data_lst)\n",
    "                count = 0\n",
    "                for i in result:\n",
    "                    count += i.shape[0]\n",
    "\n",
    "                test.append([len(subset), count])\n",
    "\n",
    "                temp = pd.DataFrame()\n",
    "                for i in range(len(result)):\n",
    "                    temp = pd.concat([temp, result[i]])\n",
    "                \n",
    "                \n",
    "                result_lst.append(temp)\n",
    "                comb.append(subset)\n",
    "                \n",
    "                \n",
    "                \n",
    "    return [test,comb,result_lst]\n"
   ]
  },
  {
   "cell_type": "code",
   "execution_count": 7,
   "metadata": {},
   "outputs": [],
   "source": [
    "#don't run it if there are more than 15 datasets in train\n",
    "[test, comb, result] = main()\n"
   ]
  },
  {
   "cell_type": "code",
   "execution_count": 8,
   "metadata": {},
   "outputs": [
    {
     "name": "stdout",
     "output_type": "stream",
     "text": [
      ".DS_Store\n",
      "2020.csv\n",
      "2021.csv\n",
      "2019.csv\n",
      "2018.csv\n",
      "2015.csv\n",
      "2016.csv\n",
      "2017.csv\n"
     ]
    }
   ],
   "source": [
    "happiness_score = pd.DataFrame()\n",
    "for info in os.listdir(\"world-happiness-report\"): \n",
    "    print(info)\n",
    "    if info == \".DS_Store\":\n",
    "        continue\n",
    "    domain = os.path.abspath(r\"world-happiness-report\")\n",
    "    dirc = os.path.join(domain,info)\n",
    "    data = pd.read_csv(dirc)\n",
    "    data = data[['Country', 'Happiness Score']]\n",
    "    info = re.findall(r\".*(?=.csv)\",info)[0]\n",
    "    data[\"Period\"] = np.array([info]*data.shape[0])\n",
    "    data = data.rename(columns={\"Country\": \"Location\"})\n",
    "    happiness_score = pd.concat([happiness_score, data])\n"
   ]
  },
  {
   "cell_type": "code",
   "execution_count": 9,
   "metadata": {},
   "outputs": [
    {
     "ename": "IndexError",
     "evalue": "list index out of range",
     "output_type": "error",
     "traceback": [
      "\u001b[0;31m---------------------------------------------------------------------------\u001b[0m",
      "\u001b[0;31mIndexError\u001b[0m                                Traceback (most recent call last)",
      "\u001b[0;32m<ipython-input-9-ce37d66b43af>\u001b[0m in \u001b[0;36m<module>\u001b[0;34m\u001b[0m\n\u001b[0;32m----> 1\u001b[0;31m \u001b[0mall_data\u001b[0m \u001b[0;34m=\u001b[0m \u001b[0mresult\u001b[0m\u001b[0;34m[\u001b[0m\u001b[0;34m-\u001b[0m\u001b[0;36m1\u001b[0m\u001b[0;34m]\u001b[0m\u001b[0;34m\u001b[0m\u001b[0;34m\u001b[0m\u001b[0m\n\u001b[0m\u001b[1;32m      2\u001b[0m \u001b[0mall_data\u001b[0m \u001b[0;34m=\u001b[0m \u001b[0mpd\u001b[0m\u001b[0;34m.\u001b[0m\u001b[0mmerge\u001b[0m\u001b[0;34m(\u001b[0m\u001b[0mall_data\u001b[0m\u001b[0;34m,\u001b[0m \u001b[0mhappiness_score\u001b[0m\u001b[0;34m,\u001b[0m \u001b[0mon\u001b[0m \u001b[0;34m=\u001b[0m \u001b[0;34m[\u001b[0m\u001b[0;34m\"Location\"\u001b[0m\u001b[0;34m,\u001b[0m \u001b[0;34m\"Period\"\u001b[0m\u001b[0;34m]\u001b[0m\u001b[0;34m)\u001b[0m\u001b[0;34m\u001b[0m\u001b[0;34m\u001b[0m\u001b[0m\n\u001b[1;32m      3\u001b[0m \u001b[0;34m\u001b[0m\u001b[0m\n\u001b[1;32m      4\u001b[0m \u001b[0mall_data\u001b[0m\u001b[0;34m\u001b[0m\u001b[0;34m\u001b[0m\u001b[0m\n",
      "\u001b[0;31mIndexError\u001b[0m: list index out of range"
     ]
    }
   ],
   "source": [
    "\n",
    "all_data = result[-1]\n",
    "all_data = pd.merge(all_data, happiness_score, on = [\"Location\", \"Period\"])\n",
    "\n",
    "all_data"
   ]
  },
  {
   "cell_type": "code",
   "execution_count": null,
   "metadata": {},
   "outputs": [],
   "source": [
    "out_dirc = \"all_data.csv\"\n",
    "\n",
    "all_data.to_csv(out_dirc,sep=',',index=True,header=True)"
   ]
  },
  {
   "cell_type": "code",
   "execution_count": null,
   "metadata": {},
   "outputs": [],
   "source": []
  }
 ],
 "metadata": {
  "kernelspec": {
   "display_name": "Python 3",
   "language": "python",
   "name": "python3"
  },
  "language_info": {
   "codemirror_mode": {
    "name": "ipython",
    "version": 3
   },
   "file_extension": ".py",
   "mimetype": "text/x-python",
   "name": "python",
   "nbconvert_exporter": "python",
   "pygments_lexer": "ipython3",
   "version": "3.7.6"
  }
 },
 "nbformat": 4,
 "nbformat_minor": 4
}
